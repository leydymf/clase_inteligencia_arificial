{
  "nbformat": 4,
  "nbformat_minor": 0,
  "metadata": {
    "colab": {
      "provenance": [],
      "include_colab_link": true
    },
    "kernelspec": {
      "name": "python3",
      "display_name": "Python 3"
    },
    "language_info": {
      "name": "python"
    }
  },
  "cells": [
    {
      "cell_type": "markdown",
      "metadata": {
        "id": "view-in-github",
        "colab_type": "text"
      },
      "source": [
        "<a href=\"https://colab.research.google.com/github/leydymf/clase_inteligencia_arificial/blob/main/Cuaderno_3_Manejo_de_Datos_Categ%C3%B3ricos.ipynb\" target=\"_parent\"><img src=\"https://colab.research.google.com/assets/colab-badge.svg\" alt=\"Open In Colab\"/></a>"
      ]
    },
    {
      "cell_type": "markdown",
      "source": [
        "# <font color=\"red\">Cuaderno 3:Manejo de Datos Categóricos\n",
        "\n",
        "Los datos categóricos son aquellos que representan categorías o etiquetas, en lugar de valores numéricos continuos. Se dividen en datos nominales y datos ordinales, y su tratamiento es esencial para la preparación del dataset, especialmente en el contexto de modelos de aprendizaje automático.\n",
        "\n",
        "\n",
        "---\n",
        "\n",
        "## <font color=\"red\">3.1 Datos Nominales\n",
        "Los datos nominales no tienen un orden inherente. Ejemplos comunes son colores, ciudades o géneros. El tratamiento de estos datos suele implicar transformarlos en representaciones numéricas comprensibles para los algoritmos de machine learning.\n",
        "\n",
        "### <font color=\"blue\">3.1.1 Métodos de Codificación para Datos Nominales\n",
        "#### Codificación One-Hot (One-Hot Encoding):\n",
        "* Genera una columna binaria para cada categoría, asignando un 1 si la fila pertenece a esa categoría y 0 en caso contrario.\n",
        "* Es útil para datos sin orden jerárquico.\n",
        "\n",
        "#### Codificación Binaria:\n",
        "* Convierte las categorías en representaciones binarias compactas.\n",
        "* Es útil cuando hay muchas categorías para reducir la dimensionalidad.\n",
        "\n",
        "#### Codificación de Frecuencia:\n",
        "* Reemplaza cada categoría con su frecuencia de aparición en los datos.\n",
        "* Puede ser útil para ciertos modelos donde la frecuencia tiene significado.\n",
        "\n",
        "#### Otros Métodos Avanzados:\n",
        "* Codificación de Puntuación (Target Encoding): Usa estadísticas derivadas de las etiquetas objetivo.\n",
        "* Embeddings de Categorías: Técnicas avanzadas que utilizan representaciones en espacios vectoriales.\n",
        "\n",
        "\n",
        "---\n",
        "\n",
        "## <font color=\"red\">3.2 Datos Ordinales\n",
        "Los datos ordinales tienen un orden jerárquico o relación entre las categorías, como niveles de educación o tamaños de ropa.\n",
        "\n",
        "### <font color=\"blue\">3.2.1 Codificación de Datos Ordinales\n",
        "\n",
        "#### Respeto al Orden Jerárquico:\n",
        "* Las categorías deben asignarse a valores numéricos que reflejen su relación de orden.\n",
        "\n",
        "#### Mapeo a Escalas Numéricas:\n",
        "* Ejemplo: \"Bajo\", \"Medio\", \"Alto\" → 1, 2, 3.\n",
        "\n",
        "---\n",
        "\n",
        "## <font color=\"red\">3.3 Ejercicio Práctico con Python\n",
        "Para este Sesion, trabajaremos con un dataset simulado que contiene tanto datos nominales como ordinales.\n",
        "\n",
        "####Crear el Dataset\n",
        "\n",
        "\n"
      ],
      "metadata": {
        "id": "1Er-2nF8WR4f"
      }
    },
    {
      "cell_type": "code",
      "source": [
        "import pandas as pd\n",
        "\n",
        "# Dataset simulado\n",
        "data = {\n",
        "    \"ID\": [1, 2, 3, 4, 5],\n",
        "    \"Ciudad\": [\"Madrid\", \"Barcelona\", \"Sevilla\", \"Madrid\", \"Valencia\"],  # Nominal\n",
        "    \"Educación\": [\"Secundaria\", \"Primaria\", \"Universitaria\", \"Primaria\", \"Universitaria\"],  # Ordinal\n",
        "    \"Género\": [\"F\", \"M\", \"F\", \"M\", \"F\"],  # Nominal\n",
        "}\n",
        "df = pd.DataFrame(data)\n",
        "print(\"Dataset original:\")\n",
        "print(df)\n"
      ],
      "metadata": {
        "colab": {
          "base_uri": "https://localhost:8080/"
        },
        "collapsed": true,
        "id": "MtwG8awGW-wj",
        "outputId": "eeee64a6-d478-4ccc-ae0e-a8d6846544b2"
      },
      "execution_count": null,
      "outputs": [
        {
          "output_type": "stream",
          "name": "stdout",
          "text": [
            "Dataset original:\n",
            "   ID     Ciudad      Educación Género\n",
            "0   1     Madrid     Secundaria      F\n",
            "1   2  Barcelona       Primaria      M\n",
            "2   3    Sevilla  Universitaria      F\n",
            "3   4     Madrid       Primaria      M\n",
            "4   5   Valencia  Universitaria      F\n"
          ]
        }
      ]
    },
    {
      "cell_type": "markdown",
      "source": [
        "## <font color=\"red\">3.4 Codificación de Datos Nominales\n",
        "### 1. Codificación One-Hot\n"
      ],
      "metadata": {
        "id": "5bfoNdoUX1UY"
      }
    },
    {
      "cell_type": "code",
      "source": [
        "# Usando get_dummies para One-Hot Encoding\n",
        "df_onehot = pd.get_dummies(df, columns=[\"Ciudad\"], prefix=\"Ciudad\")\n",
        "print(\"\\nCodificación One-Hot para 'Ciudad':\")\n",
        "print(df_onehot)\n"
      ],
      "metadata": {
        "colab": {
          "base_uri": "https://localhost:8080/"
        },
        "collapsed": true,
        "id": "nAA3Af80X79T",
        "outputId": "a3587cba-d3fe-404d-a7df-1fa7149b8389"
      },
      "execution_count": null,
      "outputs": [
        {
          "output_type": "stream",
          "name": "stdout",
          "text": [
            "\n",
            "Codificación One-Hot para 'Ciudad':\n",
            "   ID      Educación Género  Ciudad_Barcelona  Ciudad_Madrid  Ciudad_Sevilla  \\\n",
            "0   1     Secundaria      F             False           True           False   \n",
            "1   2       Primaria      M              True          False           False   \n",
            "2   3  Universitaria      F             False          False            True   \n",
            "3   4       Primaria      M             False           True           False   \n",
            "4   5  Universitaria      F             False          False           False   \n",
            "\n",
            "   Ciudad_Valencia  \n",
            "0            False  \n",
            "1            False  \n",
            "2            False  \n",
            "3            False  \n",
            "4             True  \n"
          ]
        }
      ]
    },
    {
      "cell_type": "markdown",
      "source": [
        "### 2. Codificación con Scikit-learn\n"
      ],
      "metadata": {
        "id": "rBuLsQExYBoP"
      }
    },
    {
      "cell_type": "code",
      "source": [
        "from sklearn.preprocessing import OneHotEncoder\n",
        "\n",
        "\n",
        "# Configuración del codificador\n",
        "miencoder = OneHotEncoder(sparse_output=False)  # Cambiado de sparse a sparse_output\n",
        "ciudad_onehot_encoded = miencoder.fit_transform(df[[\"Ciudad\"]])\n",
        "\n",
        "# Crear un DataFrame con los resultados\n",
        "onehot_df = pd.DataFrame(ciudad_onehot_encoded, columns=miencoder.get_feature_names_out([\"Ciudad\"]))\n",
        "print(\"\\nCodificación One-Hot con Scikit-learn:\")\n",
        "print(onehot_df)\n"
      ],
      "metadata": {
        "colab": {
          "base_uri": "https://localhost:8080/"
        },
        "collapsed": true,
        "id": "FpvvfK8zYFw7",
        "outputId": "43c93a43-27e8-468c-e490-cc11240e8cc6"
      },
      "execution_count": null,
      "outputs": [
        {
          "output_type": "stream",
          "name": "stdout",
          "text": [
            "\n",
            "Codificación One-Hot con Scikit-learn:\n",
            "   Ciudad_Barcelona  Ciudad_Madrid  Ciudad_Sevilla  Ciudad_Valencia\n",
            "0               0.0            1.0             0.0              0.0\n",
            "1               1.0            0.0             0.0              0.0\n",
            "2               0.0            0.0             1.0              0.0\n",
            "3               0.0            1.0             0.0              0.0\n",
            "4               0.0            0.0             0.0              1.0\n"
          ]
        }
      ]
    },
    {
      "cell_type": "code",
      "source": [
        "onehot_df.drop(columns=[\"Ciudad_Valencia\"],axis=1,inplace=True)\n",
        "print(onehot_df)"
      ],
      "metadata": {
        "colab": {
          "base_uri": "https://localhost:8080/"
        },
        "id": "jLks2w-DZDEI",
        "outputId": "eb831596-f804-4d40-ba72-80fd0f3a12ff"
      },
      "execution_count": null,
      "outputs": [
        {
          "output_type": "stream",
          "name": "stdout",
          "text": [
            "   Ciudad_Barcelona  Ciudad_Madrid  Ciudad_Sevilla\n",
            "0               0.0            1.0             0.0\n",
            "1               1.0            0.0             0.0\n",
            "2               0.0            0.0             1.0\n",
            "3               0.0            1.0             0.0\n",
            "4               0.0            0.0             0.0\n"
          ]
        }
      ]
    },
    {
      "cell_type": "code",
      "source": [
        "dfc=df.join(onehot_df)\n",
        "dfc.drop(columns=[\"Ciudad\"],axis=1,inplace=True)\n",
        "print(dfc)"
      ],
      "metadata": {
        "colab": {
          "base_uri": "https://localhost:8080/"
        },
        "id": "QGWrE5TaZWQn",
        "outputId": "c0cb97b7-d85d-417f-980c-c7eebfec0f7d"
      },
      "execution_count": null,
      "outputs": [
        {
          "output_type": "stream",
          "name": "stdout",
          "text": [
            "   ID      Educación Género  Ciudad_Barcelona  Ciudad_Madrid  Ciudad_Sevilla\n",
            "0   1     Secundaria      F               0.0            1.0             0.0\n",
            "1   2       Primaria      M               1.0            0.0             0.0\n",
            "2   3  Universitaria      F               0.0            0.0             1.0\n",
            "3   4       Primaria      M               0.0            1.0             0.0\n",
            "4   5  Universitaria      F               0.0            0.0             0.0\n"
          ]
        }
      ]
    },
    {
      "cell_type": "markdown",
      "source": [
        "### 3. Codificación de Frecuencia\n"
      ],
      "metadata": {
        "id": "b_FDalN7Y3ql"
      }
    },
    {
      "cell_type": "code",
      "source": [
        "# Codificación basada en la frecuencia\n",
        "df[\"Ciudad_Frecuencia\"] = df[\"Ciudad\"].map(df[\"Ciudad\"].value_counts())\n",
        "print(\"\\nCodificación de Frecuencia para 'Ciudad':\")\n",
        "print(df)\n"
      ],
      "metadata": {
        "collapsed": true,
        "colab": {
          "base_uri": "https://localhost:8080/"
        },
        "id": "S_bVNT2zY-tl",
        "outputId": "fdf7ea33-0907-45f0-ecba-3113e963d0e6"
      },
      "execution_count": null,
      "outputs": [
        {
          "output_type": "stream",
          "name": "stdout",
          "text": [
            "\n",
            "Codificación de Frecuencia para 'Ciudad':\n",
            "   ID     Ciudad      Educación Género  Ciudad_Frecuencia\n",
            "0   1     Madrid     Secundaria      F                  2\n",
            "1   2  Barcelona       Primaria      M                  1\n",
            "2   3    Sevilla  Universitaria      F                  1\n",
            "3   4     Madrid       Primaria      M                  2\n",
            "4   5   Valencia  Universitaria      F                  1\n"
          ]
        }
      ]
    },
    {
      "cell_type": "code",
      "source": [
        "dfsinciudad=df.drop(columns=[\"Ciudad\"],axis=1)\n",
        "print(dfsinciudad)"
      ],
      "metadata": {
        "colab": {
          "base_uri": "https://localhost:8080/"
        },
        "id": "B-zEf67LaUVG",
        "outputId": "8c5b9042-d520-49a8-dac2-4177036c98b8"
      },
      "execution_count": null,
      "outputs": [
        {
          "output_type": "stream",
          "name": "stdout",
          "text": [
            "   ID      Educación Género  Ciudad_Frecuencia\n",
            "0   1     Secundaria      F                  2\n",
            "1   2       Primaria      M                  1\n",
            "2   3  Universitaria      F                  1\n",
            "3   4       Primaria      M                  2\n",
            "4   5  Universitaria      F                  1\n"
          ]
        }
      ]
    },
    {
      "cell_type": "markdown",
      "source": [
        "## <font color=\"red\">3.5 Codificación de Datos Ordinales\n",
        "### 1. Mapeo Directo a Valores Numéricos"
      ],
      "metadata": {
        "id": "Lk3SxKp7ZAHF"
      }
    },
    {
      "cell_type": "code",
      "source": [
        "# Mapeo manual de las categorías\n",
        "orden_educacion = {\"Primaria\": 1, \"Secundaria\": 2, \"Universitaria\": 3}\n",
        "df[\"Educación_Ordinal\"] = df[\"Educación\"].map(orden_educacion)\n",
        "print(\"\\nCodificación Ordinal para 'Educación':\")\n",
        "print(df)\n"
      ],
      "metadata": {
        "colab": {
          "base_uri": "https://localhost:8080/"
        },
        "collapsed": true,
        "id": "qsEsdt1sZGcO",
        "outputId": "422d35d4-b261-4ed0-fa2f-6520bc1f4f81"
      },
      "execution_count": null,
      "outputs": [
        {
          "output_type": "stream",
          "name": "stdout",
          "text": [
            "\n",
            "Codificación Ordinal para 'Educación':\n",
            "   ID     Ciudad      Educación Género  Ciudad_Frecuencia  Educación_Ordinal\n",
            "0   1     Madrid     Secundaria      F                  2                  2\n",
            "1   2  Barcelona       Primaria      M                  1                  1\n",
            "2   3    Sevilla  Universitaria      F                  1                  3\n",
            "3   4     Madrid       Primaria      M                  2                  1\n",
            "4   5   Valencia  Universitaria      F                  1                  3\n"
          ]
        }
      ]
    },
    {
      "cell_type": "code",
      "source": [
        "df.drop(columns=[\"ID\",\"Educación\",\"Ciudad\"],axis=1,inplace=True)\n",
        "print(df)"
      ],
      "metadata": {
        "colab": {
          "base_uri": "https://localhost:8080/"
        },
        "id": "yWxISmcrb_1o",
        "outputId": "35081573-82c9-4d89-a17f-bf4095e1a7e0"
      },
      "execution_count": null,
      "outputs": [
        {
          "output_type": "stream",
          "name": "stdout",
          "text": [
            "  Género  Ciudad_Frecuencia  Educación_Ordinal\n",
            "0      F                  2                  2\n",
            "1      M                  1                  1\n",
            "2      F                  1                  3\n",
            "3      M                  2                  1\n",
            "4      F                  1                  3\n"
          ]
        }
      ]
    },
    {
      "cell_type": "code",
      "source": [
        "from sklearn.preprocessing import OrdinalEncoder\n",
        "codifica_genero=OrdinalEncoder()\n",
        "df[\"Género_Ordinal\"]=codifica_genero.fit_transform(df[[\"Género\"]])\n",
        "df.drop(columns=[\"Género\"],axis=1,inplace=True)\n",
        "df"
      ],
      "metadata": {
        "colab": {
          "base_uri": "https://localhost:8080/",
          "height": 206
        },
        "id": "EZII6R9wcj8O",
        "outputId": "d586de55-f753-4983-fbad-02235d37fbf8"
      },
      "execution_count": null,
      "outputs": [
        {
          "output_type": "execute_result",
          "data": {
            "text/plain": [
              "   Ciudad_Frecuencia  Educación_Ordinal  Género_Ordinal\n",
              "0                  2                  2             0.0\n",
              "1                  1                  1             1.0\n",
              "2                  1                  3             0.0\n",
              "3                  2                  1             1.0\n",
              "4                  1                  3             0.0"
            ],
            "text/html": [
              "\n",
              "  <div id=\"df-e61c80a2-419b-4ecc-b05e-00746965b9c4\" class=\"colab-df-container\">\n",
              "    <div>\n",
              "<style scoped>\n",
              "    .dataframe tbody tr th:only-of-type {\n",
              "        vertical-align: middle;\n",
              "    }\n",
              "\n",
              "    .dataframe tbody tr th {\n",
              "        vertical-align: top;\n",
              "    }\n",
              "\n",
              "    .dataframe thead th {\n",
              "        text-align: right;\n",
              "    }\n",
              "</style>\n",
              "<table border=\"1\" class=\"dataframe\">\n",
              "  <thead>\n",
              "    <tr style=\"text-align: right;\">\n",
              "      <th></th>\n",
              "      <th>Ciudad_Frecuencia</th>\n",
              "      <th>Educación_Ordinal</th>\n",
              "      <th>Género_Ordinal</th>\n",
              "    </tr>\n",
              "  </thead>\n",
              "  <tbody>\n",
              "    <tr>\n",
              "      <th>0</th>\n",
              "      <td>2</td>\n",
              "      <td>2</td>\n",
              "      <td>0.0</td>\n",
              "    </tr>\n",
              "    <tr>\n",
              "      <th>1</th>\n",
              "      <td>1</td>\n",
              "      <td>1</td>\n",
              "      <td>1.0</td>\n",
              "    </tr>\n",
              "    <tr>\n",
              "      <th>2</th>\n",
              "      <td>1</td>\n",
              "      <td>3</td>\n",
              "      <td>0.0</td>\n",
              "    </tr>\n",
              "    <tr>\n",
              "      <th>3</th>\n",
              "      <td>2</td>\n",
              "      <td>1</td>\n",
              "      <td>1.0</td>\n",
              "    </tr>\n",
              "    <tr>\n",
              "      <th>4</th>\n",
              "      <td>1</td>\n",
              "      <td>3</td>\n",
              "      <td>0.0</td>\n",
              "    </tr>\n",
              "  </tbody>\n",
              "</table>\n",
              "</div>\n",
              "    <div class=\"colab-df-buttons\">\n",
              "\n",
              "  <div class=\"colab-df-container\">\n",
              "    <button class=\"colab-df-convert\" onclick=\"convertToInteractive('df-e61c80a2-419b-4ecc-b05e-00746965b9c4')\"\n",
              "            title=\"Convert this dataframe to an interactive table.\"\n",
              "            style=\"display:none;\">\n",
              "\n",
              "  <svg xmlns=\"http://www.w3.org/2000/svg\" height=\"24px\" viewBox=\"0 -960 960 960\">\n",
              "    <path d=\"M120-120v-720h720v720H120Zm60-500h600v-160H180v160Zm220 220h160v-160H400v160Zm0 220h160v-160H400v160ZM180-400h160v-160H180v160Zm440 0h160v-160H620v160ZM180-180h160v-160H180v160Zm440 0h160v-160H620v160Z\"/>\n",
              "  </svg>\n",
              "    </button>\n",
              "\n",
              "  <style>\n",
              "    .colab-df-container {\n",
              "      display:flex;\n",
              "      gap: 12px;\n",
              "    }\n",
              "\n",
              "    .colab-df-convert {\n",
              "      background-color: #E8F0FE;\n",
              "      border: none;\n",
              "      border-radius: 50%;\n",
              "      cursor: pointer;\n",
              "      display: none;\n",
              "      fill: #1967D2;\n",
              "      height: 32px;\n",
              "      padding: 0 0 0 0;\n",
              "      width: 32px;\n",
              "    }\n",
              "\n",
              "    .colab-df-convert:hover {\n",
              "      background-color: #E2EBFA;\n",
              "      box-shadow: 0px 1px 2px rgba(60, 64, 67, 0.3), 0px 1px 3px 1px rgba(60, 64, 67, 0.15);\n",
              "      fill: #174EA6;\n",
              "    }\n",
              "\n",
              "    .colab-df-buttons div {\n",
              "      margin-bottom: 4px;\n",
              "    }\n",
              "\n",
              "    [theme=dark] .colab-df-convert {\n",
              "      background-color: #3B4455;\n",
              "      fill: #D2E3FC;\n",
              "    }\n",
              "\n",
              "    [theme=dark] .colab-df-convert:hover {\n",
              "      background-color: #434B5C;\n",
              "      box-shadow: 0px 1px 3px 1px rgba(0, 0, 0, 0.15);\n",
              "      filter: drop-shadow(0px 1px 2px rgba(0, 0, 0, 0.3));\n",
              "      fill: #FFFFFF;\n",
              "    }\n",
              "  </style>\n",
              "\n",
              "    <script>\n",
              "      const buttonEl =\n",
              "        document.querySelector('#df-e61c80a2-419b-4ecc-b05e-00746965b9c4 button.colab-df-convert');\n",
              "      buttonEl.style.display =\n",
              "        google.colab.kernel.accessAllowed ? 'block' : 'none';\n",
              "\n",
              "      async function convertToInteractive(key) {\n",
              "        const element = document.querySelector('#df-e61c80a2-419b-4ecc-b05e-00746965b9c4');\n",
              "        const dataTable =\n",
              "          await google.colab.kernel.invokeFunction('convertToInteractive',\n",
              "                                                    [key], {});\n",
              "        if (!dataTable) return;\n",
              "\n",
              "        const docLinkHtml = 'Like what you see? Visit the ' +\n",
              "          '<a target=\"_blank\" href=https://colab.research.google.com/notebooks/data_table.ipynb>data table notebook</a>'\n",
              "          + ' to learn more about interactive tables.';\n",
              "        element.innerHTML = '';\n",
              "        dataTable['output_type'] = 'display_data';\n",
              "        await google.colab.output.renderOutput(dataTable, element);\n",
              "        const docLink = document.createElement('div');\n",
              "        docLink.innerHTML = docLinkHtml;\n",
              "        element.appendChild(docLink);\n",
              "      }\n",
              "    </script>\n",
              "  </div>\n",
              "\n",
              "\n",
              "<div id=\"df-8396742c-3f0a-424b-8461-d58039578e0e\">\n",
              "  <button class=\"colab-df-quickchart\" onclick=\"quickchart('df-8396742c-3f0a-424b-8461-d58039578e0e')\"\n",
              "            title=\"Suggest charts\"\n",
              "            style=\"display:none;\">\n",
              "\n",
              "<svg xmlns=\"http://www.w3.org/2000/svg\" height=\"24px\"viewBox=\"0 0 24 24\"\n",
              "     width=\"24px\">\n",
              "    <g>\n",
              "        <path d=\"M19 3H5c-1.1 0-2 .9-2 2v14c0 1.1.9 2 2 2h14c1.1 0 2-.9 2-2V5c0-1.1-.9-2-2-2zM9 17H7v-7h2v7zm4 0h-2V7h2v10zm4 0h-2v-4h2v4z\"/>\n",
              "    </g>\n",
              "</svg>\n",
              "  </button>\n",
              "\n",
              "<style>\n",
              "  .colab-df-quickchart {\n",
              "      --bg-color: #E8F0FE;\n",
              "      --fill-color: #1967D2;\n",
              "      --hover-bg-color: #E2EBFA;\n",
              "      --hover-fill-color: #174EA6;\n",
              "      --disabled-fill-color: #AAA;\n",
              "      --disabled-bg-color: #DDD;\n",
              "  }\n",
              "\n",
              "  [theme=dark] .colab-df-quickchart {\n",
              "      --bg-color: #3B4455;\n",
              "      --fill-color: #D2E3FC;\n",
              "      --hover-bg-color: #434B5C;\n",
              "      --hover-fill-color: #FFFFFF;\n",
              "      --disabled-bg-color: #3B4455;\n",
              "      --disabled-fill-color: #666;\n",
              "  }\n",
              "\n",
              "  .colab-df-quickchart {\n",
              "    background-color: var(--bg-color);\n",
              "    border: none;\n",
              "    border-radius: 50%;\n",
              "    cursor: pointer;\n",
              "    display: none;\n",
              "    fill: var(--fill-color);\n",
              "    height: 32px;\n",
              "    padding: 0;\n",
              "    width: 32px;\n",
              "  }\n",
              "\n",
              "  .colab-df-quickchart:hover {\n",
              "    background-color: var(--hover-bg-color);\n",
              "    box-shadow: 0 1px 2px rgba(60, 64, 67, 0.3), 0 1px 3px 1px rgba(60, 64, 67, 0.15);\n",
              "    fill: var(--button-hover-fill-color);\n",
              "  }\n",
              "\n",
              "  .colab-df-quickchart-complete:disabled,\n",
              "  .colab-df-quickchart-complete:disabled:hover {\n",
              "    background-color: var(--disabled-bg-color);\n",
              "    fill: var(--disabled-fill-color);\n",
              "    box-shadow: none;\n",
              "  }\n",
              "\n",
              "  .colab-df-spinner {\n",
              "    border: 2px solid var(--fill-color);\n",
              "    border-color: transparent;\n",
              "    border-bottom-color: var(--fill-color);\n",
              "    animation:\n",
              "      spin 1s steps(1) infinite;\n",
              "  }\n",
              "\n",
              "  @keyframes spin {\n",
              "    0% {\n",
              "      border-color: transparent;\n",
              "      border-bottom-color: var(--fill-color);\n",
              "      border-left-color: var(--fill-color);\n",
              "    }\n",
              "    20% {\n",
              "      border-color: transparent;\n",
              "      border-left-color: var(--fill-color);\n",
              "      border-top-color: var(--fill-color);\n",
              "    }\n",
              "    30% {\n",
              "      border-color: transparent;\n",
              "      border-left-color: var(--fill-color);\n",
              "      border-top-color: var(--fill-color);\n",
              "      border-right-color: var(--fill-color);\n",
              "    }\n",
              "    40% {\n",
              "      border-color: transparent;\n",
              "      border-right-color: var(--fill-color);\n",
              "      border-top-color: var(--fill-color);\n",
              "    }\n",
              "    60% {\n",
              "      border-color: transparent;\n",
              "      border-right-color: var(--fill-color);\n",
              "    }\n",
              "    80% {\n",
              "      border-color: transparent;\n",
              "      border-right-color: var(--fill-color);\n",
              "      border-bottom-color: var(--fill-color);\n",
              "    }\n",
              "    90% {\n",
              "      border-color: transparent;\n",
              "      border-bottom-color: var(--fill-color);\n",
              "    }\n",
              "  }\n",
              "</style>\n",
              "\n",
              "  <script>\n",
              "    async function quickchart(key) {\n",
              "      const quickchartButtonEl =\n",
              "        document.querySelector('#' + key + ' button');\n",
              "      quickchartButtonEl.disabled = true;  // To prevent multiple clicks.\n",
              "      quickchartButtonEl.classList.add('colab-df-spinner');\n",
              "      try {\n",
              "        const charts = await google.colab.kernel.invokeFunction(\n",
              "            'suggestCharts', [key], {});\n",
              "      } catch (error) {\n",
              "        console.error('Error during call to suggestCharts:', error);\n",
              "      }\n",
              "      quickchartButtonEl.classList.remove('colab-df-spinner');\n",
              "      quickchartButtonEl.classList.add('colab-df-quickchart-complete');\n",
              "    }\n",
              "    (() => {\n",
              "      let quickchartButtonEl =\n",
              "        document.querySelector('#df-8396742c-3f0a-424b-8461-d58039578e0e button');\n",
              "      quickchartButtonEl.style.display =\n",
              "        google.colab.kernel.accessAllowed ? 'block' : 'none';\n",
              "    })();\n",
              "  </script>\n",
              "</div>\n",
              "\n",
              "  <div id=\"id_6ad4f5b1-5cc2-4b16-a1c2-7e71f87467da\">\n",
              "    <style>\n",
              "      .colab-df-generate {\n",
              "        background-color: #E8F0FE;\n",
              "        border: none;\n",
              "        border-radius: 50%;\n",
              "        cursor: pointer;\n",
              "        display: none;\n",
              "        fill: #1967D2;\n",
              "        height: 32px;\n",
              "        padding: 0 0 0 0;\n",
              "        width: 32px;\n",
              "      }\n",
              "\n",
              "      .colab-df-generate:hover {\n",
              "        background-color: #E2EBFA;\n",
              "        box-shadow: 0px 1px 2px rgba(60, 64, 67, 0.3), 0px 1px 3px 1px rgba(60, 64, 67, 0.15);\n",
              "        fill: #174EA6;\n",
              "      }\n",
              "\n",
              "      [theme=dark] .colab-df-generate {\n",
              "        background-color: #3B4455;\n",
              "        fill: #D2E3FC;\n",
              "      }\n",
              "\n",
              "      [theme=dark] .colab-df-generate:hover {\n",
              "        background-color: #434B5C;\n",
              "        box-shadow: 0px 1px 3px 1px rgba(0, 0, 0, 0.15);\n",
              "        filter: drop-shadow(0px 1px 2px rgba(0, 0, 0, 0.3));\n",
              "        fill: #FFFFFF;\n",
              "      }\n",
              "    </style>\n",
              "    <button class=\"colab-df-generate\" onclick=\"generateWithVariable('df')\"\n",
              "            title=\"Generate code using this dataframe.\"\n",
              "            style=\"display:none;\">\n",
              "\n",
              "  <svg xmlns=\"http://www.w3.org/2000/svg\" height=\"24px\"viewBox=\"0 0 24 24\"\n",
              "       width=\"24px\">\n",
              "    <path d=\"M7,19H8.4L18.45,9,17,7.55,7,17.6ZM5,21V16.75L18.45,3.32a2,2,0,0,1,2.83,0l1.4,1.43a1.91,1.91,0,0,1,.58,1.4,1.91,1.91,0,0,1-.58,1.4L9.25,21ZM18.45,9,17,7.55Zm-12,3A5.31,5.31,0,0,0,4.9,8.1,5.31,5.31,0,0,0,1,6.5,5.31,5.31,0,0,0,4.9,4.9,5.31,5.31,0,0,0,6.5,1,5.31,5.31,0,0,0,8.1,4.9,5.31,5.31,0,0,0,12,6.5,5.46,5.46,0,0,0,6.5,12Z\"/>\n",
              "  </svg>\n",
              "    </button>\n",
              "    <script>\n",
              "      (() => {\n",
              "      const buttonEl =\n",
              "        document.querySelector('#id_6ad4f5b1-5cc2-4b16-a1c2-7e71f87467da button.colab-df-generate');\n",
              "      buttonEl.style.display =\n",
              "        google.colab.kernel.accessAllowed ? 'block' : 'none';\n",
              "\n",
              "      buttonEl.onclick = () => {\n",
              "        google.colab.notebook.generateWithVariable('df');\n",
              "      }\n",
              "      })();\n",
              "    </script>\n",
              "  </div>\n",
              "\n",
              "    </div>\n",
              "  </div>\n"
            ],
            "application/vnd.google.colaboratory.intrinsic+json": {
              "type": "dataframe",
              "variable_name": "df",
              "summary": "{\n  \"name\": \"df\",\n  \"rows\": 5,\n  \"fields\": [\n    {\n      \"column\": \"Ciudad_Frecuencia\",\n      \"properties\": {\n        \"dtype\": \"number\",\n        \"std\": 0,\n        \"min\": 1,\n        \"max\": 2,\n        \"num_unique_values\": 2,\n        \"samples\": [\n          1,\n          2\n        ],\n        \"semantic_type\": \"\",\n        \"description\": \"\"\n      }\n    },\n    {\n      \"column\": \"Educaci\\u00f3n_Ordinal\",\n      \"properties\": {\n        \"dtype\": \"number\",\n        \"std\": 1,\n        \"min\": 1,\n        \"max\": 3,\n        \"num_unique_values\": 3,\n        \"samples\": [\n          2,\n          1\n        ],\n        \"semantic_type\": \"\",\n        \"description\": \"\"\n      }\n    },\n    {\n      \"column\": \"G\\u00e9nero_Ordinal\",\n      \"properties\": {\n        \"dtype\": \"number\",\n        \"std\": 0.5477225575051662,\n        \"min\": 0.0,\n        \"max\": 1.0,\n        \"num_unique_values\": 2,\n        \"samples\": [\n          1.0,\n          0.0\n        ],\n        \"semantic_type\": \"\",\n        \"description\": \"\"\n      }\n    }\n  ]\n}"
            }
          },
          "metadata": {},
          "execution_count": 49
        }
      ]
    },
    {
      "cell_type": "markdown",
      "source": [
        "### 2. Usar OrdinalEncoder de Scikit-learn\n"
      ],
      "metadata": {
        "id": "lS6_qLtMZU9E"
      }
    },
    {
      "cell_type": "code",
      "source": [
        "!pip show scikit-learn"
      ],
      "metadata": {
        "colab": {
          "base_uri": "https://localhost:8080/"
        },
        "id": "m3kQFaFEmLxb",
        "outputId": "c633368d-8d23-40dc-dbd1-326d346bc82c"
      },
      "execution_count": null,
      "outputs": [
        {
          "output_type": "stream",
          "name": "stdout",
          "text": [
            "Name: scikit-learn\n",
            "Version: 1.6.1\n",
            "Summary: A set of python modules for machine learning and data mining\n",
            "Home-page: https://scikit-learn.org\n",
            "Author: \n",
            "Author-email: \n",
            "License: BSD 3-Clause License\n",
            "\n",
            " Copyright (c) 2007-2024 The scikit-learn developers.\n",
            " All rights reserved.\n",
            "\n",
            " Redistribution and use in source and binary forms, with or without\n",
            " modification, are permitted provided that the following conditions are met:\n",
            "\n",
            " * Redistributions of source code must retain the above copyright notice, this\n",
            "   list of conditions and the following disclaimer.\n",
            "\n",
            " * Redistributions in binary form must reproduce the above copyright notice,\n",
            "   this list of conditions and the following disclaimer in the documentation\n",
            "   and/or other materials provided with the distribution.\n",
            "\n",
            " * Neither the name of the copyright holder nor the names of its\n",
            "   contributors may be used to endorse or promote products derived from\n",
            "   this software without specific prior written permission.\n",
            "\n",
            " THIS SOFTWARE IS PROVIDED BY THE COPYRIGHT HOLDERS AND CONTRIBUTORS \"AS IS\"\n",
            " AND ANY EXPRESS OR IMPLIED WARRANTIES, INCLUDING, BUT NOT LIMITED TO, THE\n",
            " IMPLIED WARRANTIES OF MERCHANTABILITY AND FITNESS FOR A PARTICULAR PURPOSE ARE\n",
            " DISCLAIMED. IN NO EVENT SHALL THE COPYRIGHT HOLDER OR CONTRIBUTORS BE LIABLE\n",
            " FOR ANY DIRECT, INDIRECT, INCIDENTAL, SPECIAL, EXEMPLARY, OR CONSEQUENTIAL\n",
            " DAMAGES (INCLUDING, BUT NOT LIMITED TO, PROCUREMENT OF SUBSTITUTE GOODS OR\n",
            " SERVICES; LOSS OF USE, DATA, OR PROFITS; OR BUSINESS INTERRUPTION) HOWEVER\n",
            " CAUSED AND ON ANY THEORY OF LIABILITY, WHETHER IN CONTRACT, STRICT LIABILITY,\n",
            " OR TORT (INCLUDING NEGLIGENCE OR OTHERWISE) ARISING IN ANY WAY OUT OF THE USE\n",
            " OF THIS SOFTWARE, EVEN IF ADVISED OF THE POSSIBILITY OF SUCH DAMAGE.\n",
            "\n",
            " ----\n",
            "\n",
            " This binary distribution of scikit-learn also bundles the following software:\n",
            "\n",
            " ----\n",
            "\n",
            " Name: GCC runtime library\n",
            " Files: scikit_learn.libs/libgomp*.so*\n",
            " Availability: https://gcc.gnu.org/git/?p=gcc.git;a=tree;f=libgomp\n",
            "\n",
            " GCC RUNTIME LIBRARY EXCEPTION\n",
            "\n",
            " Version 3.1, 31 March 2009\n",
            "\n",
            " Copyright (C) 2009 Free Software Foundation, Inc. <http://fsf.org/>\n",
            "\n",
            " Everyone is permitted to copy and distribute verbatim copies of this\n",
            " license document, but changing it is not allowed.\n",
            "\n",
            " This GCC Runtime Library Exception (\"Exception\") is an additional\n",
            " permission under section 7 of the GNU General Public License, version\n",
            " 3 (\"GPLv3\"). It applies to a given file (the \"Runtime Library\") that\n",
            " bears a notice placed by the copyright holder of the file stating that\n",
            " the file is governed by GPLv3 along with this Exception.\n",
            "\n",
            " When you use GCC to compile a program, GCC may combine portions of\n",
            " certain GCC header files and runtime libraries with the compiled\n",
            " program. The purpose of this Exception is to allow compilation of\n",
            " non-GPL (including proprietary) programs to use, in this way, the\n",
            " header files and runtime libraries covered by this Exception.\n",
            "\n",
            " 0. Definitions.\n",
            "\n",
            " A file is an \"Independent Module\" if it either requires the Runtime\n",
            " Library for execution after a Compilation Process, or makes use of an\n",
            " interface provided by the Runtime Library, but is not otherwise based\n",
            " on the Runtime Library.\n",
            "\n",
            " \"GCC\" means a version of the GNU Compiler Collection, with or without\n",
            " modifications, governed by version 3 (or a specified later version) of\n",
            " the GNU General Public License (GPL) with the option of using any\n",
            " subsequent versions published by the FSF.\n",
            "\n",
            " \"GPL-compatible Software\" is software whose conditions of propagation,\n",
            " modification and use would permit combination with GCC in accord with\n",
            " the license of GCC.\n",
            "\n",
            " \"Target Code\" refers to output from any compiler for a real or virtual\n",
            " target processor architecture, in executable form or suitable for\n",
            " input to an assembler, loader, linker and/or execution\n",
            " phase. Notwithstanding that, Target Code does not include data in any\n",
            " format that is used as a compiler intermediate representation, or used\n",
            " for producing a compiler intermediate representation.\n",
            "\n",
            " The \"Compilation Process\" transforms code entirely represented in\n",
            " non-intermediate languages designed for human-written code, and/or in\n",
            " Java Virtual Machine byte code, into Target Code. Thus, for example,\n",
            " use of source code generators and preprocessors need not be considered\n",
            " part of the Compilation Process, since the Compilation Process can be\n",
            " understood as starting with the output of the generators or\n",
            " preprocessors.\n",
            "\n",
            " A Compilation Process is \"Eligible\" if it is done using GCC, alone or\n",
            " with other GPL-compatible software, or if it is done without using any\n",
            " work based on GCC. For example, using non-GPL-compatible Software to\n",
            " optimize any GCC intermediate representations would not qualify as an\n",
            " Eligible Compilation Process.\n",
            "\n",
            " 1. Grant of Additional Permission.\n",
            "\n",
            " You have permission to propagate a work of Target Code formed by\n",
            " combining the Runtime Library with Independent Modules, even if such\n",
            " propagation would otherwise violate the terms of GPLv3, provided that\n",
            " all Target Code was generated by Eligible Compilation Processes. You\n",
            " may then convey such a combination under terms of your choice,\n",
            " consistent with the licensing of the Independent Modules.\n",
            "\n",
            " 2. No Weakening of GCC Copyleft.\n",
            "\n",
            " The availability of this Exception does not imply any general\n",
            " presumption that third-party software is unaffected by the copyleft\n",
            " requirements of the license of GCC.\n",
            "\n",
            "Location: /usr/local/lib/python3.11/dist-packages\n",
            "Requires: joblib, numpy, scipy, threadpoolctl\n",
            "Required-by: bigframes, fastai, hdbscan, imbalanced-learn, librosa, mlxtend, pynndescent, sentence-transformers, shap, sklearn-compat, sklearn-pandas, umap-learn, yellowbrick\n"
          ]
        }
      ]
    },
    {
      "cell_type": "code",
      "source": [
        "from sklearn.preprocessing import OrdinalEncoder\n",
        "\n",
        "\n",
        "# Ejemplo de DataFrame\n",
        "data = {\"Educación\": [\"Primaria\", \"Secundaria\", \"Universitaria\", \"Primaria\", \"Secundaria\"]}\n",
        "df = pd.DataFrame(data)\n",
        "\n",
        "# Configuración del codificador\n",
        "ordinal_encoder = OrdinalEncoder(categories=[[\"Primaria\", \"Secundaria\", \"Universitaria\"]])\n",
        "df[\"Educación_Ordinal\"] = ordinal_encoder.fit_transform(df[[\"Educación\"]])\n",
        "print(\"\\nCodificación Ordinal con Scikit-learn:\")\n",
        "print(df)\n"
      ],
      "metadata": {
        "colab": {
          "base_uri": "https://localhost:8080/"
        },
        "collapsed": true,
        "id": "OR4PWmGtZZ-o",
        "outputId": "74a9650f-bd67-4906-d41d-a7cd06634504"
      },
      "execution_count": null,
      "outputs": [
        {
          "output_type": "stream",
          "name": "stdout",
          "text": [
            "\n",
            "Codificación Ordinal con Scikit-learn:\n",
            "       Educación  Educación_Ordinal\n",
            "0       Primaria                0.0\n",
            "1     Secundaria                1.0\n",
            "2  Universitaria                2.0\n",
            "3       Primaria                0.0\n",
            "4     Secundaria                1.0\n"
          ]
        }
      ]
    },
    {
      "cell_type": "markdown",
      "source": [
        "## <font color=\"blue\">3.5.1 Combinar Métodos\n",
        "A menudo, los datasets contienen tanto datos nominales como ordinales. Un flujo completo podría incluir:\n",
        "\n",
        "\n",
        "* Codificación One-Hot para variables nominales.\n",
        "* Codificación Ordinal para variables con orden jerárquico.\n",
        "\n",
        "### Ejemplo Completo:\n",
        "\n",
        "\n"
      ],
      "metadata": {
        "id": "7kjE8x_eK9M_"
      }
    },
    {
      "cell_type": "code",
      "source": [
        "import pandas as pd\n",
        "\n",
        "# Crear el DataFrame\n",
        "data = {\n",
        "    \"Ciudad\": [\"Bogotá\", \"Cali\", \"Medellín\", \"Cali\", \"Bogotá\"],\n",
        "    \"Educación\": [\"Universitaria\", \"Secundaria\", \"Primaria\", \"Universitaria\", \"Secundaria\"]\n",
        "}\n",
        "df = pd.DataFrame(data)\n",
        "\n",
        "# Aplicar One-Hot Encoding a 'Ciudad'\n",
        "df_onehot = pd.get_dummies(df, columns=[\"Ciudad\"], prefix=\"Ciudad\")\n",
        "\n",
        "# Aplicar codificación ordinal a 'Educación'\n",
        "orden_educacion = {\"Primaria\": 1, \"Secundaria\": 2, \"Universitaria\": 3}\n",
        "df_onehot[\"Educación_Ordinal\"] = df[\"Educación\"].map(orden_educacion)\n",
        "\n",
        "# Mostrar el resultado\n",
        "print(\"\\nDataset procesado con One-Hot y Codificación Ordinal:\")\n",
        "print(df_onehot)"
      ],
      "metadata": {
        "colab": {
          "base_uri": "https://localhost:8080/"
        },
        "id": "2um3wY9ULYMx",
        "outputId": "bba1b797-b954-42aa-cc82-07ab7501fd54",
        "collapsed": true
      },
      "execution_count": null,
      "outputs": [
        {
          "output_type": "stream",
          "name": "stdout",
          "text": [
            "\n",
            "Dataset procesado con One-Hot y Codificación Ordinal:\n",
            "       Educación  Ciudad_Bogotá  Ciudad_Cali  Ciudad_Medellín  \\\n",
            "0  Universitaria           True        False            False   \n",
            "1     Secundaria          False         True            False   \n",
            "2       Primaria          False        False             True   \n",
            "3  Universitaria          False         True            False   \n",
            "4     Secundaria           True        False            False   \n",
            "\n",
            "   Educación_Ordinal  \n",
            "0                  3  \n",
            "1                  2  \n",
            "2                  1  \n",
            "3                  3  \n",
            "4                  2  \n"
          ]
        }
      ]
    },
    {
      "cell_type": "markdown",
      "source": [
        "## <font color=\"red\">3.6 Complemento: Cuándo y Por Qué Codificar Datos\n",
        "\n",
        "### <font color=\"blue\">3.6.1 ¿Cuándo es necesario codificar datos?\n",
        "La codificación de datos categóricos es necesaria en la mayoría de los modelos de machine learning basados en Scikit-learn, ya que estos algoritmos funcionan exclusivamente con valores numéricos. Las razones incluyen:\n",
        "* Algoritmos matemáticos: Los modelos como regresión logística, máquinas de soporte vectorial (SVM), árboles de decisión, etc., dependen de cálculos matemáticos que no pueden procesar datos categóricos directamente.\n",
        "* Significado contextual: Las transformaciones (por ejemplo, One-Hot Encoding) convierten las categorías en formatos que los algoritmos pueden interpretar sin perder información.\n",
        "\n",
        "### <font color=\"blue\">3.6.2 ¿Cuándo no es necesario codificar datos?\n",
        "No siempre es obligatorio codificar datos categóricos. Algunos escenarios incluyen:<p>\n",
        "\n",
        "####Modelos basados en árboles de decisión (como Random Forest, Gradient Boosting, XGBoost)\n",
        "* En muchos casos, estos algoritmos pueden trabajar directamente con datos categóricos si usan librerías que soportan esta funcionalidad (por ejemplo, CatBoost o XGBoost).\n",
        "* Nota: En Scikit-learn, incluso los árboles requieren codificación porque la implementación no incluye soporte nativo para categorías.\n",
        "\n",
        "#### Análisis Exploratorio de Datos (EDA):\n",
        "* Si el objetivo es solo visualizar o explorar los datos, no es obligatorio realizar la codificación.\n",
        "\n",
        "\n",
        "---\n",
        "\n",
        "## <font color=\"red\">3.7 Uso de Librerías para Guardar Procesos: Joblib y Pickle\n",
        "Cuando entrenamos un modelo usando datos transformados (por ejemplo, con OneHotEncoder o LabelEncoder), es esencial guardar estos procesos para aplicarlos posteriormente a nuevos datos. Las librerías Joblib y Pickle son herramientas eficientes para guardar objetos de Python, como transformadores, modelos entrenados o pipelines.\n",
        "\n",
        "### <font color=\"blue\">3.7.1  Introducción a Joblib\n",
        "\n",
        "Joblib es ideal para serializar objetos grandes como modelos de machine learning o encoders. Es rápido y eficiente para matrices grandes.\n",
        "\n",
        "\n",
        "\n",
        "\n",
        "\n"
      ],
      "metadata": {
        "id": "22IZkJ5yMOqw"
      }
    },
    {
      "cell_type": "code",
      "source": [
        "from sklearn.preprocessing import OneHotEncoder\n",
        "from joblib import dump, load\n",
        "import numpy as np\n",
        "\n",
        "# Datos de ejemplo\n",
        "datos = np.array([[\"Bogotá\"], [\"Cali\"], [\"Medellín\"], [\"Cali\"], [\"Bogotá\"]])\n",
        "\n",
        "# Crear y ajustar el encoder\n",
        "encoder = OneHotEncoder(sparse_output=False)\n",
        "ciudad=encoder.fit_transform(datos)\n",
        "\n",
        "# Guardar el encoder en un archivo\n",
        "dump(encoder, \"codificador_ciudad.joblib\")\n",
        "ciudad"
      ],
      "metadata": {
        "colab": {
          "base_uri": "https://localhost:8080/"
        },
        "id": "FW0rjoUMMWF-",
        "outputId": "fa7ce9e9-8b26-49d0-a252-6eff323292f5",
        "collapsed": true
      },
      "execution_count": null,
      "outputs": [
        {
          "output_type": "execute_result",
          "data": {
            "text/plain": [
              "array([[1., 0., 0.],\n",
              "       [0., 1., 0.],\n",
              "       [0., 0., 1.],\n",
              "       [0., 1., 0.],\n",
              "       [1., 0., 0.]])"
            ]
          },
          "metadata": {},
          "execution_count": 65
        }
      ]
    },
    {
      "cell_type": "code",
      "source": [
        "# Crear un DataFrame con los resultados\n",
        "# Get the names of the output columns from the encoder\n",
        "column_names = encoder.get_feature_names_out([\"Ciudad\"])\n",
        "\n",
        "# Crear un DataFrame con los resultados, and use the correct column_names\n",
        "onehot_df = pd.DataFrame(ciudad, columns=column_names)\n",
        "print(\"\\nCodificación de la ciudad:\")\n",
        "print(onehot_df)"
      ],
      "metadata": {
        "colab": {
          "base_uri": "https://localhost:8080/"
        },
        "id": "58fv_in6gHE4",
        "outputId": "3338d91b-e6d2-47c8-9f1c-bd1e58d84430"
      },
      "execution_count": null,
      "outputs": [
        {
          "output_type": "stream",
          "name": "stdout",
          "text": [
            "\n",
            "Codificación de la ciudad:\n",
            "   Ciudad_Bogotá  Ciudad_Cali  Ciudad_Medellín\n",
            "0            1.0          0.0              0.0\n",
            "1            0.0          1.0              0.0\n",
            "2            0.0          0.0              1.0\n",
            "3            0.0          1.0              0.0\n",
            "4            1.0          0.0              0.0\n"
          ]
        }
      ]
    },
    {
      "cell_type": "markdown",
      "source": [
        "### <font color=\"blue\">3.7.2 Introducción a Pickle\n",
        "Pickle también es una herramienta para serializar objetos en Python, aunque es menos eficiente con grandes matrices.\n"
      ],
      "metadata": {
        "id": "YfiSs7HjOE4L"
      }
    },
    {
      "cell_type": "code",
      "source": [
        "import pickle\n",
        "\n",
        "# Guardar un objeto\n",
        "with open(\"label_encoder.pkl\", \"wb\") as f:\n",
        "    pickle.dump(encoder, f)\n",
        "\n",
        "# Cargar el objeto guardado\n",
        "with open(\"label_encoder.pkl\", \"rb\") as f:\n",
        "    loaded_encoder = pickle.load(f)\n",
        "df"
      ],
      "metadata": {
        "colab": {
          "base_uri": "https://localhost:8080/",
          "height": 206
        },
        "id": "_QpGSYkIOJBa",
        "outputId": "d8c5fe67-e0a2-4ee0-abfd-8ff782d6bd5f",
        "collapsed": true
      },
      "execution_count": null,
      "outputs": [
        {
          "output_type": "execute_result",
          "data": {
            "text/plain": [
              "     Ciudad      Educación\n",
              "0    Bogotá  Universitaria\n",
              "1      Cali     Secundaria\n",
              "2  Medellín       Primaria\n",
              "3      Cali  Universitaria\n",
              "4    Bogotá     Secundaria"
            ],
            "text/html": [
              "\n",
              "  <div id=\"df-efef63b7-9ec4-4671-a212-3b5645340194\" class=\"colab-df-container\">\n",
              "    <div>\n",
              "<style scoped>\n",
              "    .dataframe tbody tr th:only-of-type {\n",
              "        vertical-align: middle;\n",
              "    }\n",
              "\n",
              "    .dataframe tbody tr th {\n",
              "        vertical-align: top;\n",
              "    }\n",
              "\n",
              "    .dataframe thead th {\n",
              "        text-align: right;\n",
              "    }\n",
              "</style>\n",
              "<table border=\"1\" class=\"dataframe\">\n",
              "  <thead>\n",
              "    <tr style=\"text-align: right;\">\n",
              "      <th></th>\n",
              "      <th>Ciudad</th>\n",
              "      <th>Educación</th>\n",
              "    </tr>\n",
              "  </thead>\n",
              "  <tbody>\n",
              "    <tr>\n",
              "      <th>0</th>\n",
              "      <td>Bogotá</td>\n",
              "      <td>Universitaria</td>\n",
              "    </tr>\n",
              "    <tr>\n",
              "      <th>1</th>\n",
              "      <td>Cali</td>\n",
              "      <td>Secundaria</td>\n",
              "    </tr>\n",
              "    <tr>\n",
              "      <th>2</th>\n",
              "      <td>Medellín</td>\n",
              "      <td>Primaria</td>\n",
              "    </tr>\n",
              "    <tr>\n",
              "      <th>3</th>\n",
              "      <td>Cali</td>\n",
              "      <td>Universitaria</td>\n",
              "    </tr>\n",
              "    <tr>\n",
              "      <th>4</th>\n",
              "      <td>Bogotá</td>\n",
              "      <td>Secundaria</td>\n",
              "    </tr>\n",
              "  </tbody>\n",
              "</table>\n",
              "</div>\n",
              "    <div class=\"colab-df-buttons\">\n",
              "\n",
              "  <div class=\"colab-df-container\">\n",
              "    <button class=\"colab-df-convert\" onclick=\"convertToInteractive('df-efef63b7-9ec4-4671-a212-3b5645340194')\"\n",
              "            title=\"Convert this dataframe to an interactive table.\"\n",
              "            style=\"display:none;\">\n",
              "\n",
              "  <svg xmlns=\"http://www.w3.org/2000/svg\" height=\"24px\" viewBox=\"0 -960 960 960\">\n",
              "    <path d=\"M120-120v-720h720v720H120Zm60-500h600v-160H180v160Zm220 220h160v-160H400v160Zm0 220h160v-160H400v160ZM180-400h160v-160H180v160Zm440 0h160v-160H620v160ZM180-180h160v-160H180v160Zm440 0h160v-160H620v160Z\"/>\n",
              "  </svg>\n",
              "    </button>\n",
              "\n",
              "  <style>\n",
              "    .colab-df-container {\n",
              "      display:flex;\n",
              "      gap: 12px;\n",
              "    }\n",
              "\n",
              "    .colab-df-convert {\n",
              "      background-color: #E8F0FE;\n",
              "      border: none;\n",
              "      border-radius: 50%;\n",
              "      cursor: pointer;\n",
              "      display: none;\n",
              "      fill: #1967D2;\n",
              "      height: 32px;\n",
              "      padding: 0 0 0 0;\n",
              "      width: 32px;\n",
              "    }\n",
              "\n",
              "    .colab-df-convert:hover {\n",
              "      background-color: #E2EBFA;\n",
              "      box-shadow: 0px 1px 2px rgba(60, 64, 67, 0.3), 0px 1px 3px 1px rgba(60, 64, 67, 0.15);\n",
              "      fill: #174EA6;\n",
              "    }\n",
              "\n",
              "    .colab-df-buttons div {\n",
              "      margin-bottom: 4px;\n",
              "    }\n",
              "\n",
              "    [theme=dark] .colab-df-convert {\n",
              "      background-color: #3B4455;\n",
              "      fill: #D2E3FC;\n",
              "    }\n",
              "\n",
              "    [theme=dark] .colab-df-convert:hover {\n",
              "      background-color: #434B5C;\n",
              "      box-shadow: 0px 1px 3px 1px rgba(0, 0, 0, 0.15);\n",
              "      filter: drop-shadow(0px 1px 2px rgba(0, 0, 0, 0.3));\n",
              "      fill: #FFFFFF;\n",
              "    }\n",
              "  </style>\n",
              "\n",
              "    <script>\n",
              "      const buttonEl =\n",
              "        document.querySelector('#df-efef63b7-9ec4-4671-a212-3b5645340194 button.colab-df-convert');\n",
              "      buttonEl.style.display =\n",
              "        google.colab.kernel.accessAllowed ? 'block' : 'none';\n",
              "\n",
              "      async function convertToInteractive(key) {\n",
              "        const element = document.querySelector('#df-efef63b7-9ec4-4671-a212-3b5645340194');\n",
              "        const dataTable =\n",
              "          await google.colab.kernel.invokeFunction('convertToInteractive',\n",
              "                                                    [key], {});\n",
              "        if (!dataTable) return;\n",
              "\n",
              "        const docLinkHtml = 'Like what you see? Visit the ' +\n",
              "          '<a target=\"_blank\" href=https://colab.research.google.com/notebooks/data_table.ipynb>data table notebook</a>'\n",
              "          + ' to learn more about interactive tables.';\n",
              "        element.innerHTML = '';\n",
              "        dataTable['output_type'] = 'display_data';\n",
              "        await google.colab.output.renderOutput(dataTable, element);\n",
              "        const docLink = document.createElement('div');\n",
              "        docLink.innerHTML = docLinkHtml;\n",
              "        element.appendChild(docLink);\n",
              "      }\n",
              "    </script>\n",
              "  </div>\n",
              "\n",
              "\n",
              "<div id=\"df-960d3f99-460b-487e-82e1-e4654372938a\">\n",
              "  <button class=\"colab-df-quickchart\" onclick=\"quickchart('df-960d3f99-460b-487e-82e1-e4654372938a')\"\n",
              "            title=\"Suggest charts\"\n",
              "            style=\"display:none;\">\n",
              "\n",
              "<svg xmlns=\"http://www.w3.org/2000/svg\" height=\"24px\"viewBox=\"0 0 24 24\"\n",
              "     width=\"24px\">\n",
              "    <g>\n",
              "        <path d=\"M19 3H5c-1.1 0-2 .9-2 2v14c0 1.1.9 2 2 2h14c1.1 0 2-.9 2-2V5c0-1.1-.9-2-2-2zM9 17H7v-7h2v7zm4 0h-2V7h2v10zm4 0h-2v-4h2v4z\"/>\n",
              "    </g>\n",
              "</svg>\n",
              "  </button>\n",
              "\n",
              "<style>\n",
              "  .colab-df-quickchart {\n",
              "      --bg-color: #E8F0FE;\n",
              "      --fill-color: #1967D2;\n",
              "      --hover-bg-color: #E2EBFA;\n",
              "      --hover-fill-color: #174EA6;\n",
              "      --disabled-fill-color: #AAA;\n",
              "      --disabled-bg-color: #DDD;\n",
              "  }\n",
              "\n",
              "  [theme=dark] .colab-df-quickchart {\n",
              "      --bg-color: #3B4455;\n",
              "      --fill-color: #D2E3FC;\n",
              "      --hover-bg-color: #434B5C;\n",
              "      --hover-fill-color: #FFFFFF;\n",
              "      --disabled-bg-color: #3B4455;\n",
              "      --disabled-fill-color: #666;\n",
              "  }\n",
              "\n",
              "  .colab-df-quickchart {\n",
              "    background-color: var(--bg-color);\n",
              "    border: none;\n",
              "    border-radius: 50%;\n",
              "    cursor: pointer;\n",
              "    display: none;\n",
              "    fill: var(--fill-color);\n",
              "    height: 32px;\n",
              "    padding: 0;\n",
              "    width: 32px;\n",
              "  }\n",
              "\n",
              "  .colab-df-quickchart:hover {\n",
              "    background-color: var(--hover-bg-color);\n",
              "    box-shadow: 0 1px 2px rgba(60, 64, 67, 0.3), 0 1px 3px 1px rgba(60, 64, 67, 0.15);\n",
              "    fill: var(--button-hover-fill-color);\n",
              "  }\n",
              "\n",
              "  .colab-df-quickchart-complete:disabled,\n",
              "  .colab-df-quickchart-complete:disabled:hover {\n",
              "    background-color: var(--disabled-bg-color);\n",
              "    fill: var(--disabled-fill-color);\n",
              "    box-shadow: none;\n",
              "  }\n",
              "\n",
              "  .colab-df-spinner {\n",
              "    border: 2px solid var(--fill-color);\n",
              "    border-color: transparent;\n",
              "    border-bottom-color: var(--fill-color);\n",
              "    animation:\n",
              "      spin 1s steps(1) infinite;\n",
              "  }\n",
              "\n",
              "  @keyframes spin {\n",
              "    0% {\n",
              "      border-color: transparent;\n",
              "      border-bottom-color: var(--fill-color);\n",
              "      border-left-color: var(--fill-color);\n",
              "    }\n",
              "    20% {\n",
              "      border-color: transparent;\n",
              "      border-left-color: var(--fill-color);\n",
              "      border-top-color: var(--fill-color);\n",
              "    }\n",
              "    30% {\n",
              "      border-color: transparent;\n",
              "      border-left-color: var(--fill-color);\n",
              "      border-top-color: var(--fill-color);\n",
              "      border-right-color: var(--fill-color);\n",
              "    }\n",
              "    40% {\n",
              "      border-color: transparent;\n",
              "      border-right-color: var(--fill-color);\n",
              "      border-top-color: var(--fill-color);\n",
              "    }\n",
              "    60% {\n",
              "      border-color: transparent;\n",
              "      border-right-color: var(--fill-color);\n",
              "    }\n",
              "    80% {\n",
              "      border-color: transparent;\n",
              "      border-right-color: var(--fill-color);\n",
              "      border-bottom-color: var(--fill-color);\n",
              "    }\n",
              "    90% {\n",
              "      border-color: transparent;\n",
              "      border-bottom-color: var(--fill-color);\n",
              "    }\n",
              "  }\n",
              "</style>\n",
              "\n",
              "  <script>\n",
              "    async function quickchart(key) {\n",
              "      const quickchartButtonEl =\n",
              "        document.querySelector('#' + key + ' button');\n",
              "      quickchartButtonEl.disabled = true;  // To prevent multiple clicks.\n",
              "      quickchartButtonEl.classList.add('colab-df-spinner');\n",
              "      try {\n",
              "        const charts = await google.colab.kernel.invokeFunction(\n",
              "            'suggestCharts', [key], {});\n",
              "      } catch (error) {\n",
              "        console.error('Error during call to suggestCharts:', error);\n",
              "      }\n",
              "      quickchartButtonEl.classList.remove('colab-df-spinner');\n",
              "      quickchartButtonEl.classList.add('colab-df-quickchart-complete');\n",
              "    }\n",
              "    (() => {\n",
              "      let quickchartButtonEl =\n",
              "        document.querySelector('#df-960d3f99-460b-487e-82e1-e4654372938a button');\n",
              "      quickchartButtonEl.style.display =\n",
              "        google.colab.kernel.accessAllowed ? 'block' : 'none';\n",
              "    })();\n",
              "  </script>\n",
              "</div>\n",
              "\n",
              "  <div id=\"id_26086e8c-2877-4c58-ab40-90340eea8795\">\n",
              "    <style>\n",
              "      .colab-df-generate {\n",
              "        background-color: #E8F0FE;\n",
              "        border: none;\n",
              "        border-radius: 50%;\n",
              "        cursor: pointer;\n",
              "        display: none;\n",
              "        fill: #1967D2;\n",
              "        height: 32px;\n",
              "        padding: 0 0 0 0;\n",
              "        width: 32px;\n",
              "      }\n",
              "\n",
              "      .colab-df-generate:hover {\n",
              "        background-color: #E2EBFA;\n",
              "        box-shadow: 0px 1px 2px rgba(60, 64, 67, 0.3), 0px 1px 3px 1px rgba(60, 64, 67, 0.15);\n",
              "        fill: #174EA6;\n",
              "      }\n",
              "\n",
              "      [theme=dark] .colab-df-generate {\n",
              "        background-color: #3B4455;\n",
              "        fill: #D2E3FC;\n",
              "      }\n",
              "\n",
              "      [theme=dark] .colab-df-generate:hover {\n",
              "        background-color: #434B5C;\n",
              "        box-shadow: 0px 1px 3px 1px rgba(0, 0, 0, 0.15);\n",
              "        filter: drop-shadow(0px 1px 2px rgba(0, 0, 0, 0.3));\n",
              "        fill: #FFFFFF;\n",
              "      }\n",
              "    </style>\n",
              "    <button class=\"colab-df-generate\" onclick=\"generateWithVariable('df')\"\n",
              "            title=\"Generate code using this dataframe.\"\n",
              "            style=\"display:none;\">\n",
              "\n",
              "  <svg xmlns=\"http://www.w3.org/2000/svg\" height=\"24px\"viewBox=\"0 0 24 24\"\n",
              "       width=\"24px\">\n",
              "    <path d=\"M7,19H8.4L18.45,9,17,7.55,7,17.6ZM5,21V16.75L18.45,3.32a2,2,0,0,1,2.83,0l1.4,1.43a1.91,1.91,0,0,1,.58,1.4,1.91,1.91,0,0,1-.58,1.4L9.25,21ZM18.45,9,17,7.55Zm-12,3A5.31,5.31,0,0,0,4.9,8.1,5.31,5.31,0,0,0,1,6.5,5.31,5.31,0,0,0,4.9,4.9,5.31,5.31,0,0,0,6.5,1,5.31,5.31,0,0,0,8.1,4.9,5.31,5.31,0,0,0,12,6.5,5.46,5.46,0,0,0,6.5,12Z\"/>\n",
              "  </svg>\n",
              "    </button>\n",
              "    <script>\n",
              "      (() => {\n",
              "      const buttonEl =\n",
              "        document.querySelector('#id_26086e8c-2877-4c58-ab40-90340eea8795 button.colab-df-generate');\n",
              "      buttonEl.style.display =\n",
              "        google.colab.kernel.accessAllowed ? 'block' : 'none';\n",
              "\n",
              "      buttonEl.onclick = () => {\n",
              "        google.colab.notebook.generateWithVariable('df');\n",
              "      }\n",
              "      })();\n",
              "    </script>\n",
              "  </div>\n",
              "\n",
              "    </div>\n",
              "  </div>\n"
            ],
            "application/vnd.google.colaboratory.intrinsic+json": {
              "type": "dataframe",
              "variable_name": "df",
              "summary": "{\n  \"name\": \"df\",\n  \"rows\": 5,\n  \"fields\": [\n    {\n      \"column\": \"Ciudad\",\n      \"properties\": {\n        \"dtype\": \"string\",\n        \"num_unique_values\": 3,\n        \"samples\": [\n          \"Bogot\\u00e1\",\n          \"Cali\",\n          \"Medell\\u00edn\"\n        ],\n        \"semantic_type\": \"\",\n        \"description\": \"\"\n      }\n    },\n    {\n      \"column\": \"Educaci\\u00f3n\",\n      \"properties\": {\n        \"dtype\": \"string\",\n        \"num_unique_values\": 3,\n        \"samples\": [\n          \"Universitaria\",\n          \"Secundaria\",\n          \"Primaria\"\n        ],\n        \"semantic_type\": \"\",\n        \"description\": \"\"\n      }\n    }\n  ]\n}"
            }
          },
          "metadata": {},
          "execution_count": 10
        }
      ]
    },
    {
      "cell_type": "markdown",
      "source": [
        "## <font color=\"red\">3.8 Ejercicio: Guardar y Utilizar Procesos de Codificación\n",
        "### <font color=\"blue\">3.8.1 Ejemplo Completo: Transformación y Predicción con Modelos de Scikit-learn\n",
        "\n",
        "* Crear Dataset y Codificar Variables Categóricas:\n"
      ],
      "metadata": {
        "id": "yTHAYOIKOVkk"
      }
    },
    {
      "cell_type": "code",
      "source": [
        "import pandas as pd\n",
        "from sklearn.preprocessing import LabelEncoder\n",
        "from joblib import dump\n",
        "\n",
        "# Dataset simulado\n",
        "data = {\n",
        "    \"Género\": [\"F\", \"M\", \"F\", \"M\", \"F\"],\n",
        "    \"Edad\": [25, 32, 18, 40, 22],\n",
        "    \"Compró\": [\"Sí\", \"No\", \"No\", \"Sí\", \"Sí\"],  # Etiqueta\n",
        "}\n",
        "df = pd.DataFrame(data)\n",
        "\n",
        "# Codificar la columna 'Género'\n",
        "gender_encoder = LabelEncoder()\n",
        "df[\"Género\"] = gender_encoder.fit_transform(df[\"Género\"])\n",
        "\n",
        "# Codificar la columna 'Compró' (etiqueta)\n",
        "compró_encoder = LabelEncoder()\n",
        "df[\"Compró\"] = compró_encoder.fit_transform(df[\"Compró\"])\n",
        "\n",
        "# Guardar los encoders para uso posterior\n",
        "dump(gender_encoder, \"gender_encoder.joblib\")\n",
        "dump(compró_encoder, \"compró_encoder.joblib\")\n",
        "\n",
        "print(\"Datos codificados:\")\n",
        "print(df)\n"
      ],
      "metadata": {
        "colab": {
          "base_uri": "https://localhost:8080/"
        },
        "id": "3fHKnCLTOe0_",
        "outputId": "03116f51-b83e-47df-a938-4f339f166fc4",
        "collapsed": true
      },
      "execution_count": null,
      "outputs": [
        {
          "output_type": "stream",
          "name": "stdout",
          "text": [
            "Datos codificados:\n",
            "   Género  Edad  Compró\n",
            "0       0    25       1\n",
            "1       1    32       0\n",
            "2       0    18       0\n",
            "3       1    40       1\n",
            "4       0    22       1\n"
          ]
        }
      ]
    },
    {
      "cell_type": "markdown",
      "source": [
        "* Entrenar el Modelo:\n"
      ],
      "metadata": {
        "id": "UScL57YGOiD6"
      }
    },
    {
      "cell_type": "code",
      "source": [
        "import pandas as pd\n",
        "from sklearn.ensemble import RandomForestClassifier\n",
        "from joblib import dump\n",
        "\n",
        "# Simulación de un DataFrame para pruebas\n",
        "data = {\n",
        "    \"Género\": [0, 1, 0, 1, 0],  # Ejemplo codificado (F -> 0, M -> 1)\n",
        "    \"Edad\": [25, 32, 18, 40, 22],\n",
        "    \"Compró\": [1, 0, 0, 1, 1],  # Ejemplo codificado (Sí -> 1, No -> 0)\n",
        "}\n",
        "df = pd.DataFrame(data)\n",
        "\n",
        "# Separar las variables independientes (X) y la dependiente (y)\n",
        "X = df[[\"Género\", \"Edad\"]]\n",
        "y = df[\"Compró\"]\n",
        "\n",
        "# Entrenar el modelo\n",
        "model = RandomForestClassifier()\n",
        "model.fit(X, y)\n",
        "\n",
        "# Guardar el modelo entrenado\n",
        "dump(model, \"random_forest_model.joblib\")\n",
        "\n",
        "print(\"Modelo guardado correctamente.\")\n"
      ],
      "metadata": {
        "colab": {
          "base_uri": "https://localhost:8080/"
        },
        "id": "0R303S8aOpyy",
        "outputId": "02964b28-4d47-4e0c-abc8-687e8cbeb922",
        "collapsed": true
      },
      "execution_count": null,
      "outputs": [
        {
          "output_type": "stream",
          "name": "stdout",
          "text": [
            "Modelo guardado correctamente.\n"
          ]
        }
      ]
    },
    {
      "cell_type": "markdown",
      "source": [
        "* Uso del Modelo en Nuevos Datos:\n"
      ],
      "metadata": {
        "id": "vFehcbtMQJLR"
      }
    },
    {
      "cell_type": "code",
      "source": [
        "import pandas as pd\n",
        "from joblib import load\n",
        "\n",
        "# Nuevos datos (puedes ajustarlos a tus necesidades)\n",
        "new_data = pd.DataFrame({\n",
        "    \"Género\": [\"F\", \"M\", \"F\"],\n",
        "    \"Edad\": [28, 34, 21],\n",
        "})\n",
        "\n",
        "# Cargar los encoders previamente guardados\n",
        "gender_encoder = load(\"gender_encoder.joblib\")\n",
        "compró_encoder = load(\"compró_encoder.joblib\")\n",
        "\n",
        "# Transformar la columna 'Género' usando el encoder cargado\n",
        "new_data[\"Género\"] = gender_encoder.transform(new_data[\"Género\"])\n",
        "\n",
        "# Cargar el modelo entrenado\n",
        "model = load(\"random_forest_model.joblib\")\n",
        "\n",
        "# Hacer predicciones con el modelo\n",
        "X_new = new_data[[\"Género\", \"Edad\"]]  # Seleccionar las mismas columnas que usaste para entrenar el modelo\n",
        "predictions = model.predict(X_new)\n",
        "\n",
        "# Decodificar las predicciones (convertir las etiquetas numéricas a las originales)\n",
        "decoded_predictions = compró_encoder.inverse_transform(predictions)\n",
        "\n",
        "# Mostrar las predicciones decodificadas\n",
        "print(\"Predicciones para nuevos datos:\")\n",
        "for i, pred in enumerate(decoded_predictions):\n",
        "    print(f\"Nuevo dato {i+1}: Compró = {pred}\")\n"
      ],
      "metadata": {
        "id": "mlRIFJ6sQMDC",
        "outputId": "33bb232f-051b-4496-ad10-85e432eb2ad8",
        "colab": {
          "base_uri": "https://localhost:8080/"
        },
        "collapsed": true
      },
      "execution_count": null,
      "outputs": [
        {
          "output_type": "stream",
          "name": "stdout",
          "text": [
            "Predicciones para nuevos datos:\n",
            "Nuevo dato 1: Compró = Sí\n",
            "Nuevo dato 2: Compró = No\n",
            "Nuevo dato 3: Compró = Sí\n"
          ]
        }
      ]
    },
    {
      "cell_type": "markdown",
      "source": [
        "## <font color=\"red\">3.9 Resultados y Atributos de Modelos\n",
        "\n",
        "Al usar modelos con datos codificados, es importante analizar los atributos del modelo. Por ejemplo, para un modelo de árbol de decisión:\n",
        "* feature_importances_: Muestra la importancia relativa de cada característica (incluidas las codificadas).\n",
        "* predict_proba(): Proporciona la probabilidad de cada clase para un conjunto de datos.\n",
        "\n",
        "Ejemplo\n"
      ],
      "metadata": {
        "id": "Tf9O_JQNBEml"
      }
    },
    {
      "cell_type": "code",
      "source": [
        "# Importancia de las características\n",
        "print(\"Importancia de las características:\")\n",
        "print(loaded_model.feature_importances_)\n",
        "\n",
        "# Probabilidad de predicción\n",
        "proba = loaded_model.predict_proba(new_data)\n",
        "print(\"\\nProbabilidad de cada clase:\")\n",
        "print(proba)\n"
      ],
      "metadata": {
        "colab": {
          "base_uri": "https://localhost:8080/"
        },
        "collapsed": true,
        "id": "2INMddh9BPK8",
        "outputId": "5cf4aeb2-490d-4aae-a03f-cf59b4be2894"
      },
      "execution_count": null,
      "outputs": [
        {
          "output_type": "stream",
          "name": "stdout",
          "text": [
            "Importancia de las características:\n",
            "[0.1366244 0.8633756]\n",
            "\n",
            "Probabilidad de cada clase:\n",
            "[[0.15 0.85]\n",
            " [0.64 0.36]\n",
            " [0.39 0.61]]\n"
          ]
        }
      ]
    }
  ]
}
