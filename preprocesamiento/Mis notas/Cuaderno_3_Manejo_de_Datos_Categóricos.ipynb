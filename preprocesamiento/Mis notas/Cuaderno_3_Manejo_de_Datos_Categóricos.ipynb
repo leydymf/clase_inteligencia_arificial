{
  "nbformat": 4,
  "nbformat_minor": 0,
  "metadata": {
    "colab": {
      "provenance": [],
      "authorship_tag": "ABX9TyPFcK+tCmk1IZMou6lBJOV9",
      "include_colab_link": true
    },
    "kernelspec": {
      "name": "python3",
      "display_name": "Python 3"
    },
    "language_info": {
      "name": "python"
    }
  },
  "cells": [
    {
      "cell_type": "markdown",
      "metadata": {
        "id": "view-in-github",
        "colab_type": "text"
      },
      "source": [
        "<a href=\"https://colab.research.google.com/github/leydymf/clase_inteligencia_arificial/blob/main/Cuaderno_3_Manejo_de_Datos_Categ%C3%B3ricos.ipynb\" target=\"_parent\"><img src=\"https://colab.research.google.com/assets/colab-badge.svg\" alt=\"Open In Colab\"/></a>"
      ]
    },
    {
      "cell_type": "markdown",
      "source": [
        "Lo que importa es la varianza, y los datos categoricos se intentan volver numericos.\n",
        "\n",
        "Factores dummys o variables dummy: Se usan cuando la varianza es muy pequeña.\n",
        "\n",
        "Libreria getdummys y onehot encodeing son librerias que hacen el trabaja los dummys.\n",
        "Para los dummy se una la cardinalidad -1. Ya que si todo esta en cero se entiende que la ultimas uno.\n",
        "\n",
        "\n",
        "\n",
        "*   Getdummys en un metodo de pandas.\n",
        "*   One-hot encoding es de Scikit-learn.\n",
        "LUGAR DE CONSULTA: https://scikit-learn.org/stable/\n",
        "Es una libreria que permite numerizar variables categoricas creando las culumnas -1. Y se puede elegir que categoria borrar.\n",
        "\n",
        "\n",
        "Para guardar los datos se hace con joblib import dump, load\n"
      ],
      "metadata": {
        "id": "g_IFBqAhSIJ5"
      }
    },
    {
      "cell_type": "code",
      "source": [
        "import pandas as pd\n",
        "\n",
        "# Dataset simulado\n",
        "data = {\n",
        "    \"ID\": [1, 2, 3, 4, 5],\n",
        "    \"Ciudad\": [\"Madrid\", \"Barcelona\", \"Sevilla\", \"Madrid\", \"Valencia\"],  # Nominal\n",
        "    \"Educación\": [\"Secundaria\", \"Primaria\", \"Universitaria\", \"Primaria\", \"Universitaria\"],  # Ordinal\n",
        "    \"Género\": [\"F\", \"M\", \"F\", \"M\", \"F\"],  # Nominal\n",
        "}\n",
        "df = pd.DataFrame(data)\n",
        "print(\"Dataset original:\")\n",
        "print(df)\n"
      ],
      "metadata": {
        "colab": {
          "base_uri": "https://localhost:8080/"
        },
        "id": "zcvfPL3tVHsp",
        "outputId": "69598159-3510-4ae4-9b6a-4a3040c99759"
      },
      "execution_count": 24,
      "outputs": [
        {
          "output_type": "stream",
          "name": "stdout",
          "text": [
            "Dataset original:\n",
            "   ID     Ciudad      Educación Género\n",
            "0   1     Madrid     Secundaria      F\n",
            "1   2  Barcelona       Primaria      M\n",
            "2   3    Sevilla  Universitaria      F\n",
            "3   4     Madrid       Primaria      M\n",
            "4   5   Valencia  Universitaria      F\n"
          ]
        }
      ]
    },
    {
      "cell_type": "code",
      "source": [
        "# Usando get_dummies para One-Hot Encoding\n",
        "df_onehot = pd.get_dummies(df, columns=[\"Ciudad\"], prefix=\"Ciudad\")\n",
        "print(\"\\nCodificación One-Hot para 'Ciudad':\")\n",
        "print(df_onehot)\n"
      ],
      "metadata": {
        "colab": {
          "base_uri": "https://localhost:8080/"
        },
        "id": "F_mPRhNlVpaj",
        "outputId": "f897c12a-091b-445d-f153-1682bdccd32f"
      },
      "execution_count": 25,
      "outputs": [
        {
          "output_type": "stream",
          "name": "stdout",
          "text": [
            "\n",
            "Codificación One-Hot para 'Ciudad':\n",
            "   ID      Educación Género  Ciudad_Barcelona  Ciudad_Madrid  Ciudad_Sevilla  \\\n",
            "0   1     Secundaria      F             False           True           False   \n",
            "1   2       Primaria      M              True          False           False   \n",
            "2   3  Universitaria      F             False          False            True   \n",
            "3   4       Primaria      M             False           True           False   \n",
            "4   5  Universitaria      F             False          False           False   \n",
            "\n",
            "   Ciudad_Valencia  \n",
            "0            False  \n",
            "1            False  \n",
            "2            False  \n",
            "3            False  \n",
            "4             True  \n"
          ]
        }
      ]
    },
    {
      "cell_type": "code",
      "source": [
        "from sklearn.preprocessing import OneHotEncoder\n",
        "import pandas as pd\n",
        "\n",
        "# Configuración del codificador\n",
        "encoder = OneHotEncoder(sparse_output=False)  # Cambiado de sparse a sparse_output\n",
        "ciudad_onehot_encoded = encoder.fit_transform(df[[\"Ciudad\"]])\n",
        "\n",
        "# Crear un DataFrame con los resultados\n",
        "onehot_df = pd.DataFrame(ciudad_onehot_encoded, columns=encoder.get_feature_names_out([\"Ciudad\"]))\n",
        "print(\"\\nCodificación One-Hot con Scikit-learn:\")\n",
        "print(onehot_df)"
      ],
      "metadata": {
        "colab": {
          "base_uri": "https://localhost:8080/"
        },
        "id": "zSiEJ1KsW-K_",
        "outputId": "b42e9ab7-2068-4207-b1de-fc852cb4396d"
      },
      "execution_count": 26,
      "outputs": [
        {
          "output_type": "stream",
          "name": "stdout",
          "text": [
            "\n",
            "Codificación One-Hot con Scikit-learn:\n",
            "   Ciudad_Barcelona  Ciudad_Madrid  Ciudad_Sevilla  Ciudad_Valencia\n",
            "0               0.0            1.0             0.0              0.0\n",
            "1               1.0            0.0             0.0              0.0\n",
            "2               0.0            0.0             1.0              0.0\n",
            "3               0.0            1.0             0.0              0.0\n",
            "4               0.0            0.0             0.0              1.0\n"
          ]
        }
      ]
    },
    {
      "cell_type": "code",
      "source": [
        "# Codificación basada en la frecuencia\n",
        "df[\"Ciudad_Frecuencia\"] = df[\"Ciudad\"].map(df[\"Ciudad\"].value_counts())\n",
        "print(\"\\nCodificación de Frecuencia para 'Ciudad':\")\n",
        "print(df)\n"
      ],
      "metadata": {
        "colab": {
          "base_uri": "https://localhost:8080/"
        },
        "id": "UBe8wUt8bffc",
        "outputId": "2b7c35b0-567e-402b-c081-4bf480613bb8"
      },
      "execution_count": 27,
      "outputs": [
        {
          "output_type": "stream",
          "name": "stdout",
          "text": [
            "\n",
            "Codificación de Frecuencia para 'Ciudad':\n",
            "   ID     Ciudad      Educación Género  Ciudad_Frecuencia\n",
            "0   1     Madrid     Secundaria      F                  2\n",
            "1   2  Barcelona       Primaria      M                  1\n",
            "2   3    Sevilla  Universitaria      F                  1\n",
            "3   4     Madrid       Primaria      M                  2\n",
            "4   5   Valencia  Universitaria      F                  1\n"
          ]
        }
      ]
    },
    {
      "cell_type": "code",
      "source": [
        "# Mapeo manual de las categorías\n",
        "orden_educacion = {\"Primaria\": 1, \"Secundaria\": 2, \"Universitaria\": 3}\n",
        "df[\"Educación_Ordinal\"] = df[\"Educación\"].map(orden_educacion)\n",
        "print(\"\\nCodificación Ordinal para 'Educación':\")\n",
        "print(df)\n"
      ],
      "metadata": {
        "colab": {
          "base_uri": "https://localhost:8080/"
        },
        "id": "zYHFWxrccDeK",
        "outputId": "00a2800f-0e0d-4ffe-cfda-8030e503d420"
      },
      "execution_count": 28,
      "outputs": [
        {
          "output_type": "stream",
          "name": "stdout",
          "text": [
            "\n",
            "Codificación Ordinal para 'Educación':\n",
            "   ID     Ciudad      Educación Género  Ciudad_Frecuencia  Educación_Ordinal\n",
            "0   1     Madrid     Secundaria      F                  2                  2\n",
            "1   2  Barcelona       Primaria      M                  1                  1\n",
            "2   3    Sevilla  Universitaria      F                  1                  3\n",
            "3   4     Madrid       Primaria      M                  2                  1\n",
            "4   5   Valencia  Universitaria      F                  1                  3\n"
          ]
        }
      ]
    },
    {
      "cell_type": "code",
      "source": [
        "df.drop(columns=['ID', 'Educación', 'Ciudad'], axis=1, inplace=True)\n",
        "print(df)"
      ],
      "metadata": {
        "colab": {
          "base_uri": "https://localhost:8080/"
        },
        "id": "pCnYP8UCcIEf",
        "outputId": "22e25b26-6d73-4f28-af20-6df6005e57bc"
      },
      "execution_count": 32,
      "outputs": [
        {
          "output_type": "stream",
          "name": "stdout",
          "text": [
            "  Género  Ciudad_Frecuencia  Educación_Ordinal\n",
            "0      F                  2                  2\n",
            "1      M                  1                  1\n",
            "2      F                  1                  3\n",
            "3      M                  2                  1\n",
            "4      F                  1                  3\n"
          ]
        }
      ]
    },
    {
      "cell_type": "code",
      "source": [
        "from sklearn.preprocessing import OrdinalEncoder\n",
        "codifica_genero = OrdinalEncoder()\n",
        "df['Género_Ordinal'] = codifica_genero.fit_transform(df[['Género']])\n",
        "df.drop(columns=['Género'], axis=1, inplace=True)\n",
        "print(df)"
      ],
      "metadata": {
        "colab": {
          "base_uri": "https://localhost:8080/"
        },
        "id": "tX-BSBKrczFh",
        "outputId": "f623b496-ab3c-4555-c521-7c5d365275c7"
      },
      "execution_count": 35,
      "outputs": [
        {
          "output_type": "stream",
          "name": "stdout",
          "text": [
            "   Ciudad_Frecuencia  Educación_Ordinal  Género_Ordinal\n",
            "0                  2                  2             0.0\n",
            "1                  1                  1             1.0\n",
            "2                  1                  3             0.0\n",
            "3                  2                  1             1.0\n",
            "4                  1                  3             0.0\n"
          ]
        }
      ]
    },
    {
      "cell_type": "code",
      "source": [
        "from sklearn.preprocessing import OrdinalEncoder\n",
        "import pandas as pd\n",
        "\n",
        "# Ejemplo de DataFrame\n",
        "data = {\"Educación\": [\"Primaria\", \"Secundaria\", \"Universitaria\", \"Primaria\"]}\n",
        "df = pd.DataFrame(data)\n",
        "\n",
        "# Configuración del codificador\n",
        "ordinal_encoder = OrdinalEncoder(categories=[[\"Primaria\", \"Secundaria\", \"Universitaria\"]])\n",
        "df[\"Educación_Ordinal\"] = ordinal_encoder.fit_transform(df[[\"Educación\"]])\n",
        "print(\"\\nCodificación Ordinal con Scikit-learn:\")\n",
        "print(df)\n"
      ],
      "metadata": {
        "colab": {
          "base_uri": "https://localhost:8080/"
        },
        "id": "AV0yhQS3d9Z4",
        "outputId": "b662138c-cc82-45cc-fec9-af6aeb4f74ce"
      },
      "execution_count": 36,
      "outputs": [
        {
          "output_type": "stream",
          "name": "stdout",
          "text": [
            "\n",
            "Codificación Ordinal con Scikit-learn:\n",
            "       Educación  Educación_Ordinal\n",
            "0       Primaria                0.0\n",
            "1     Secundaria                1.0\n",
            "2  Universitaria                2.0\n",
            "3       Primaria                0.0\n"
          ]
        }
      ]
    },
    {
      "cell_type": "code",
      "source": [
        "from sklearn.preprocessing import OneHotEncoder\n",
        "from joblib import dump, load\n",
        "import numpy as np\n",
        "\n",
        "# Datos de ejemplo\n",
        "datos = np.array([[\"Bogotá\"], [\"Cali\"], [\"Medellín\"], [\"Cali\"], [\"Bogotá\"]])\n",
        "\n",
        "# Crear y ajustar el encoder\n",
        "encoder = OneHotEncoder()\n",
        "encoder.fit(datos)\n",
        "\n",
        "# Guardar el encoder en un archivo\n",
        "dump(encoder, \"onehot_encoder.joblib\")\n",
        "\n",
        "# Cargar el encoder desde el archivo\n",
        "loaded_encoder = load(\"onehot_encoder.joblib\")\n",
        "\n",
        "# Usar el encoder cargado para transformar datos\n",
        "transformados = loaded_encoder.transform([[\"Bogotá\"], [\"Medellín\"]]).toarray()\n",
        "print(\"Datos transformados:\")\n",
        "print(transformados)\n"
      ],
      "metadata": {
        "colab": {
          "base_uri": "https://localhost:8080/"
        },
        "id": "35P8u09ugCN7",
        "outputId": "b96ce41a-ec1c-479f-e8c3-8a0b95fd7fd8"
      },
      "execution_count": 37,
      "outputs": [
        {
          "output_type": "stream",
          "name": "stdout",
          "text": [
            "Datos transformados:\n",
            "[[1. 0. 0.]\n",
            " [0. 0. 1.]]\n"
          ]
        }
      ]
    }
  ]
}
