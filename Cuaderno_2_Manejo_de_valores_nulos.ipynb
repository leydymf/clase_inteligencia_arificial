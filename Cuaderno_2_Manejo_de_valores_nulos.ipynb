{
  "nbformat": 4,
  "nbformat_minor": 0,
  "metadata": {
    "colab": {
      "provenance": [],
      "authorship_tag": "ABX9TyPFCBajKANrbEU2/rylyrtq",
      "include_colab_link": true
    },
    "kernelspec": {
      "name": "python3",
      "display_name": "Python 3"
    },
    "language_info": {
      "name": "python"
    }
  },
  "cells": [
    {
      "cell_type": "markdown",
      "metadata": {
        "id": "view-in-github",
        "colab_type": "text"
      },
      "source": [
        "<a href=\"https://colab.research.google.com/github/leydymf/clase_inteligencia_arificial/blob/main/Cuaderno_2_Manejo_de_valores_nulos.ipynb\" target=\"_parent\"><img src=\"https://colab.research.google.com/assets/colab-badge.svg\" alt=\"Open In Colab\"/></a>"
      ]
    },
    {
      "cell_type": "markdown",
      "source": [],
      "metadata": {
        "id": "QUBkH5deO1Xk"
      }
    },
    {
      "cell_type": "markdown",
      "source": [
        "#Manejo de nulos\n",
        "El manejo de valores nulos o perdidos es una parte esencial del preprocesamiento de datos. Los valores nulos pueden distorsionar los análisis y afectar la calidad de los modelos predictivos. Por ello, identificar y tratar los valores nulos de manera adecuada es fundamental para asegurar la integridad del análisis de datos."
      ],
      "metadata": {
        "id": "8UDjQmwoO3AJ"
      }
    }
  ]
}